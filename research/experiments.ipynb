{
 "cells": [
  {
   "cell_type": "code",
   "execution_count": 1,
   "metadata": {},
   "outputs": [],
   "source": [
    "import os\n",
    "from dotenv import load_dotenv\n",
    "from langchain_community.document_loaders import PyPDFLoader\n",
    "from langchain_together import Together\n",
    "from langchain.text_splitter import RecursiveCharacterTextSplitter\n",
    "from langchain_google_genai import GoogleGenerativeAIEmbeddings\n",
    "from langchain_community.vectorstores import FAISS\n",
    "from langchain.chains import ConversationalRetrievalChain\n",
    "from langchain.memory import ConversationBufferMemory"
   ]
  },
  {
   "cell_type": "code",
   "execution_count": 2,
   "metadata": {},
   "outputs": [
    {
     "data": {
      "text/plain": [
       "True"
      ]
     },
     "execution_count": 2,
     "metadata": {},
     "output_type": "execute_result"
    }
   ],
   "source": [
    "load_dotenv()"
   ]
  },
  {
   "cell_type": "code",
   "execution_count": 3,
   "metadata": {},
   "outputs": [],
   "source": [
    "GOOGLE_API_KEY = os.environ.get(\"GOOGLE_API_KEY\")\n",
    "TOGETHER_API_KEY = os.environ.get(\"TOGETHER_API_KEY\")"
   ]
  },
  {
   "cell_type": "code",
   "execution_count": 4,
   "metadata": {},
   "outputs": [],
   "source": [
    "def get_pdf_text(pdf_docs):\n",
    "    loader = PyPDFLoader(file_path=pdf_docs)\n",
    "    pages = loader.load()\n",
    "    return pages"
   ]
  },
  {
   "cell_type": "code",
   "execution_count": 5,
   "metadata": {},
   "outputs": [],
   "source": [
    "def get_text_chunks(pages):\n",
    "    text_splitter = RecursiveCharacterTextSplitter(\n",
    "        chunk_size = 1500, chunk_overlap = 200, \n",
    "        length_function=len, separators=['\\n\\n', '\\n', ' ', '']\n",
    "    )\n",
    "    chunks = text_splitter.split_documents(pages)\n",
    "    \n",
    "    return chunks"
   ]
  },
  {
   "cell_type": "code",
   "execution_count": 6,
   "metadata": {},
   "outputs": [],
   "source": [
    "def get_embeddings():\n",
    "    embeddings = GoogleGenerativeAIEmbeddings(google_api_key=GOOGLE_API_KEY, \n",
    "                                              model=\"models/embedding-001\")\n",
    "    \n",
    "    return embeddings"
   ]
  },
  {
   "cell_type": "code",
   "execution_count": 7,
   "metadata": {},
   "outputs": [],
   "source": [
    "def get_vectorstore(chunks, embeddings):\n",
    "    vectorstore = FAISS.from_documents(documents=chunks, \n",
    "                                       embedding=embeddings)\n",
    "    \n",
    "    return vectorstore"
   ]
  },
  {
   "cell_type": "code",
   "execution_count": 10,
   "metadata": {},
   "outputs": [],
   "source": [
    "def get_conversation_chain(vectorstore):\n",
    "    \n",
    "    llm = Together(model=\"mistralai/Mistral-7B-Instruct-v0.3\", \n",
    "                   api_key=TOGETHER_API_KEY, max_tokens=512)\n",
    "    memory = ConversationBufferMemory(memory_key= \"chat_history\", \n",
    "                                      return_messages=True)\n",
    "    conversation = ConversationalRetrievalChain.from_llm(llm=llm, \n",
    "                                        retriever=vectorstore.as_retriever(), memory=memory)\n",
    "    \n",
    "    return conversation"
   ]
  },
  {
   "cell_type": "code",
   "execution_count": 11,
   "metadata": {},
   "outputs": [],
   "source": [
    "pages = get_pdf_text(pdf_docs=\"networking-interview-questions-and-answers-pdf.pdf\")\n",
    "chunks = get_text_chunks(pages=pages)\n",
    "embeddings = get_embeddings()\n",
    "vectorstore = get_vectorstore(chunks=chunks, embeddings=embeddings)\n",
    "conversation = get_conversation_chain(vectorstore)"
   ]
  },
  {
   "cell_type": "code",
   "execution_count": 13,
   "metadata": {},
   "outputs": [],
   "source": [
    "result = conversation(\"How can Switched Virtual Network be established?\")['answer']"
   ]
  },
  {
   "cell_type": "code",
   "execution_count": 14,
   "metadata": {},
   "outputs": [
    {
     "name": "stdout",
     "output_type": "stream",
     "text": [
      "\n",
      "1. The computer sends a connection request to the switch to which it is attached.\n",
      "2. Software in the switch finds a network path to the destination.\n",
      "3. The connection is established by the destination.\n",
      "4. A message is sent back to the originating computer to indicate the SVC is ready.\n",
      "5. If any switch or the destination computer does not agree to set up the VC, an error message is sent back and the SVC is not established.\n"
     ]
    }
   ],
   "source": [
    "print(result)"
   ]
  }
 ],
 "metadata": {
  "kernelspec": {
   "display_name": "Python 3",
   "language": "python",
   "name": "python3"
  },
  "language_info": {
   "codemirror_mode": {
    "name": "ipython",
    "version": 3
   },
   "file_extension": ".py",
   "mimetype": "text/x-python",
   "name": "python",
   "nbconvert_exporter": "python",
   "pygments_lexer": "ipython3",
   "version": "3.10.14"
  }
 },
 "nbformat": 4,
 "nbformat_minor": 2
}
